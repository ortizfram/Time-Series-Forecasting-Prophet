{
 "cells": [
  {
   "cell_type": "code",
   "execution_count": 2,
   "id": "bccf2f5e-5e4a-4621-9c98-96633ddfe4e8",
   "metadata": {},
   "outputs": [],
   "source": [
    "#! pip install prophet"
   ]
  },
  {
   "cell_type": "markdown",
   "id": "a08984de-0b7d-49a3-be1b-009bd15e4449",
   "metadata": {},
   "source": [
    "#### import libraries"
   ]
  },
  {
   "cell_type": "code",
   "execution_count": 3,
   "id": "be2d6b8e-c3bf-4222-82c1-eb4d3f3184e3",
   "metadata": {},
   "outputs": [],
   "source": [
    "import pandas as pd\n",
    "from prophet.plot import plot_plotly, plot_components_plotly\n",
    "from prophet import Prophet"
   ]
  },
  {
   "cell_type": "markdown",
   "id": "3d2f0bef-f389-4a42-b1f3-1ba0feab2c76",
   "metadata": {},
   "source": [
    "#### read dataset"
   ]
  },
  {
   "cell_type": "code",
   "execution_count": 6,
   "id": "08d0485d-b9a6-49f4-813d-a436a2830a97",
   "metadata": {},
   "outputs": [
    {
     "name": "stdout",
     "output_type": "stream",
     "text": [
      " El volumen de la unidad C no tiene etiqueta.\n",
      " El n£mero de serie del volumen es: 8275-508D\n",
      "\n",
      " Directorio de C:\\Users\\ortiz\\OneDrive\\Documentos\\workspace\\Time-Series-Forecasting-Prophet\n",
      "\n",
      "14/02/2023  18:55    <DIR>          .\n",
      "14/02/2023  18:55    <DIR>          ..\n",
      "14/02/2023  18:51    <DIR>          .ipynb_checkpoints\n",
      "14/02/2023  18:55             1.097 Forecasting.ipynb\n",
      "14/02/2023  18:50            52.865 MaunaLoaDailyTemps.csv\n",
      "14/02/2023  18:50               116 README.md\n",
      "               3 archivos         54.078 bytes\n",
      "               3 dirs  312.284.979.200 bytes libres\n"
     ]
    }
   ],
   "source": [
    "!dir"
   ]
  },
  {
   "cell_type": "code",
   "execution_count": 13,
   "id": "7e512f72-5cae-48d5-970b-52ab5735b522",
   "metadata": {},
   "outputs": [],
   "source": [
    "# Read data, drop null values and reset index inplace\n",
    "df = pd.read_csv('MaunaLoaDailyTemps.csv')\n",
    "df.dropna(inplace=True)\n",
    "df.reset_index(drop=True, inplace=True)"
   ]
  },
  {
   "cell_type": "code",
   "execution_count": 9,
   "id": "2c6cbcce-4ee5-4e0a-8c93-15e5d75e89e9",
   "metadata": {},
   "outputs": [
    {
     "name": "stdout",
     "output_type": "stream",
     "text": [
      "<class 'pandas.core.frame.DataFrame'>\n",
      "RangeIndex: 1821 entries, 0 to 1820\n",
      "Data columns (total 6 columns):\n",
      " #   Column   Non-Null Count  Dtype  \n",
      "---  ------   --------------  -----  \n",
      " 0   DATE     1821 non-null   object \n",
      " 1   MinTemp  1821 non-null   float64\n",
      " 2   MaxTemp  1821 non-null   float64\n",
      " 3   AvgTemp  1821 non-null   float64\n",
      " 4   Sunrise  1821 non-null   int64  \n",
      " 5   Sunset   1821 non-null   int64  \n",
      "dtypes: float64(3), int64(2), object(1)\n",
      "memory usage: 85.5+ KB\n"
     ]
    }
   ],
   "source": [
    "df.info()"
   ]
  },
  {
   "cell_type": "code",
   "execution_count": 10,
   "id": "88d919c2-8f2f-4770-b313-469cee65e940",
   "metadata": {},
   "outputs": [
    {
     "data": {
      "text/html": [
       "<div>\n",
       "<style scoped>\n",
       "    .dataframe tbody tr th:only-of-type {\n",
       "        vertical-align: middle;\n",
       "    }\n",
       "\n",
       "    .dataframe tbody tr th {\n",
       "        vertical-align: top;\n",
       "    }\n",
       "\n",
       "    .dataframe thead th {\n",
       "        text-align: right;\n",
       "    }\n",
       "</style>\n",
       "<table border=\"1\" class=\"dataframe\">\n",
       "  <thead>\n",
       "    <tr style=\"text-align: right;\">\n",
       "      <th></th>\n",
       "      <th>DATE</th>\n",
       "      <th>MinTemp</th>\n",
       "      <th>MaxTemp</th>\n",
       "      <th>AvgTemp</th>\n",
       "      <th>Sunrise</th>\n",
       "      <th>Sunset</th>\n",
       "    </tr>\n",
       "  </thead>\n",
       "  <tbody>\n",
       "    <tr>\n",
       "      <th>0</th>\n",
       "      <td>1/1/2014</td>\n",
       "      <td>33.0</td>\n",
       "      <td>46.0</td>\n",
       "      <td>40.0</td>\n",
       "      <td>657</td>\n",
       "      <td>1756</td>\n",
       "    </tr>\n",
       "    <tr>\n",
       "      <th>1</th>\n",
       "      <td>1/2/2014</td>\n",
       "      <td>35.0</td>\n",
       "      <td>50.0</td>\n",
       "      <td>43.0</td>\n",
       "      <td>657</td>\n",
       "      <td>1756</td>\n",
       "    </tr>\n",
       "    <tr>\n",
       "      <th>2</th>\n",
       "      <td>1/3/2014</td>\n",
       "      <td>36.0</td>\n",
       "      <td>45.0</td>\n",
       "      <td>41.0</td>\n",
       "      <td>657</td>\n",
       "      <td>1757</td>\n",
       "    </tr>\n",
       "    <tr>\n",
       "      <th>3</th>\n",
       "      <td>1/4/2014</td>\n",
       "      <td>32.0</td>\n",
       "      <td>41.0</td>\n",
       "      <td>37.0</td>\n",
       "      <td>658</td>\n",
       "      <td>1757</td>\n",
       "    </tr>\n",
       "    <tr>\n",
       "      <th>4</th>\n",
       "      <td>1/5/2014</td>\n",
       "      <td>24.0</td>\n",
       "      <td>38.0</td>\n",
       "      <td>31.0</td>\n",
       "      <td>658</td>\n",
       "      <td>1758</td>\n",
       "    </tr>\n",
       "  </tbody>\n",
       "</table>\n",
       "</div>"
      ],
      "text/plain": [
       "       DATE  MinTemp  MaxTemp  AvgTemp  Sunrise  Sunset\n",
       "0  1/1/2014     33.0     46.0     40.0      657    1756\n",
       "1  1/2/2014     35.0     50.0     43.0      657    1756\n",
       "2  1/3/2014     36.0     45.0     41.0      657    1757\n",
       "3  1/4/2014     32.0     41.0     37.0      658    1757\n",
       "4  1/5/2014     24.0     38.0     31.0      658    1758"
      ]
     },
     "execution_count": 10,
     "metadata": {},
     "output_type": "execute_result"
    }
   ],
   "source": [
    "df.head()"
   ]
  },
  {
   "cell_type": "markdown",
   "id": "182e7ae7-38ac-42d1-babd-237b5a28706f",
   "metadata": {},
   "source": [
    "##### only interest on 'AvgTemp' and 'DATE' columns, this are the ones selected for prediction"
   ]
  },
  {
   "cell_type": "code",
   "execution_count": 17,
   "id": "758421a3-730d-4e06-86ab-d8fc7b0748d3",
   "metadata": {},
   "outputs": [
    {
     "data": {
      "text/html": [
       "<div>\n",
       "<style scoped>\n",
       "    .dataframe tbody tr th:only-of-type {\n",
       "        vertical-align: middle;\n",
       "    }\n",
       "\n",
       "    .dataframe tbody tr th {\n",
       "        vertical-align: top;\n",
       "    }\n",
       "\n",
       "    .dataframe thead th {\n",
       "        text-align: right;\n",
       "    }\n",
       "</style>\n",
       "<table border=\"1\" class=\"dataframe\">\n",
       "  <thead>\n",
       "    <tr style=\"text-align: right;\">\n",
       "      <th></th>\n",
       "      <th>DATE</th>\n",
       "      <th>AvgTemp</th>\n",
       "    </tr>\n",
       "  </thead>\n",
       "  <tbody>\n",
       "    <tr>\n",
       "      <th>0</th>\n",
       "      <td>1/1/2014</td>\n",
       "      <td>40.0</td>\n",
       "    </tr>\n",
       "    <tr>\n",
       "      <th>1</th>\n",
       "      <td>1/2/2014</td>\n",
       "      <td>43.0</td>\n",
       "    </tr>\n",
       "    <tr>\n",
       "      <th>2</th>\n",
       "      <td>1/3/2014</td>\n",
       "      <td>41.0</td>\n",
       "    </tr>\n",
       "    <tr>\n",
       "      <th>3</th>\n",
       "      <td>1/4/2014</td>\n",
       "      <td>37.0</td>\n",
       "    </tr>\n",
       "    <tr>\n",
       "      <th>4</th>\n",
       "      <td>1/5/2014</td>\n",
       "      <td>31.0</td>\n",
       "    </tr>\n",
       "  </tbody>\n",
       "</table>\n",
       "</div>"
      ],
      "text/plain": [
       "       DATE  AvgTemp\n",
       "0  1/1/2014     40.0\n",
       "1  1/2/2014     43.0\n",
       "2  1/3/2014     41.0\n",
       "3  1/4/2014     37.0\n",
       "4  1/5/2014     31.0"
      ]
     },
     "execution_count": 17,
     "metadata": {},
     "output_type": "execute_result"
    }
   ],
   "source": [
    "df = df[['DATE','AvgTemp']]\n",
    "df.head()"
   ]
  },
  {
   "cell_type": "markdown",
   "id": "752205f7-39fb-421a-bd73-298105505b11",
   "metadata": {},
   "source": [
    "### Change columns names for Prophet"
   ]
  },
  {
   "cell_type": "code",
   "execution_count": 18,
   "id": "bf1398f5-2989-40ef-9c42-9d3d5cd4a1e0",
   "metadata": {},
   "outputs": [],
   "source": [
    "# setting default columns for prophet\n",
    "df.columns = ['ds','y']"
   ]
  }
 ],
 "metadata": {
  "kernelspec": {
   "display_name": "Python 3 (ipykernel)",
   "language": "python",
   "name": "python3"
  },
  "language_info": {
   "codemirror_mode": {
    "name": "ipython",
    "version": 3
   },
   "file_extension": ".py",
   "mimetype": "text/x-python",
   "name": "python",
   "nbconvert_exporter": "python",
   "pygments_lexer": "ipython3",
   "version": "3.10.6"
  }
 },
 "nbformat": 4,
 "nbformat_minor": 5
}
